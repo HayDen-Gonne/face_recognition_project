{
 "cells": [
  {
   "cell_type": "code",
   "execution_count": 1,
   "metadata": {},
   "outputs": [
    {
     "name": "stdout",
     "output_type": "stream",
     "text": [
      "Requirement already satisfied: tensorflow in c:\\users\\admin\\anaconda3\\envs\\face_recognition\\lib\\site-packages (2.1.0)\n",
      "Requirement already satisfied: wheel>=0.26 in c:\\users\\admin\\anaconda3\\envs\\face_recognition\\lib\\site-packages (from tensorflow) (0.37.1)\n",
      "Requirement already satisfied: google-pasta>=0.1.6 in c:\\users\\admin\\anaconda3\\envs\\face_recognition\\lib\\site-packages (from tensorflow) (0.2.0)\n",
      "Requirement already satisfied: keras-applications>=1.0.8 in c:\\users\\admin\\anaconda3\\envs\\face_recognition\\lib\\site-packages (from tensorflow) (1.0.8)\n",
      "Requirement already satisfied: opt-einsum>=2.3.2 in c:\\users\\admin\\anaconda3\\envs\\face_recognition\\lib\\site-packages (from tensorflow) (3.3.0)\n",
      "Requirement already satisfied: numpy<2.0,>=1.16.0 in c:\\users\\admin\\anaconda3\\envs\\face_recognition\\lib\\site-packages (from tensorflow) (1.19.2)\n",
      "Requirement already satisfied: gast==0.2.2 in c:\\users\\admin\\anaconda3\\envs\\face_recognition\\lib\\site-packages (from tensorflow) (0.2.2)\n",
      "Requirement already satisfied: grpcio>=1.8.6 in c:\\users\\admin\\anaconda3\\envs\\face_recognition\\lib\\site-packages (from tensorflow) (1.36.1)\n",
      "Requirement already satisfied: absl-py>=0.7.0 in c:\\users\\admin\\anaconda3\\envs\\face_recognition\\lib\\site-packages (from tensorflow) (0.15.0)\n",
      "Requirement already satisfied: wrapt>=1.11.1 in c:\\users\\admin\\anaconda3\\envs\\face_recognition\\lib\\site-packages (from tensorflow) (1.12.1)\n",
      "Requirement already satisfied: scipy==1.4.1 in c:\\users\\admin\\anaconda3\\envs\\face_recognition\\lib\\site-packages (from tensorflow) (1.4.1)\n",
      "Requirement already satisfied: tensorflow-estimator<2.2.0,>=2.1.0rc0 in c:\\users\\admin\\anaconda3\\envs\\face_recognition\\lib\\site-packages (from tensorflow) (2.1.0)\n",
      "Requirement already satisfied: termcolor>=1.1.0 in c:\\users\\admin\\anaconda3\\envs\\face_recognition\\lib\\site-packages (from tensorflow) (1.1.0)\n",
      "Requirement already satisfied: keras-preprocessing>=1.1.0 in c:\\users\\admin\\anaconda3\\envs\\face_recognition\\lib\\site-packages (from tensorflow) (1.1.2)\n",
      "Requirement already satisfied: six>=1.12.0 in c:\\users\\admin\\anaconda3\\envs\\face_recognition\\lib\\site-packages (from tensorflow) (1.16.0)\n",
      "Requirement already satisfied: tensorboard<2.2.0,>=2.1.0 in c:\\users\\admin\\anaconda3\\envs\\face_recognition\\lib\\site-packages (from tensorflow) (2.1.1)\n",
      "Requirement already satisfied: astor>=0.6.0 in c:\\users\\admin\\anaconda3\\envs\\face_recognition\\lib\\site-packages (from tensorflow) (0.8.1)\n",
      "Requirement already satisfied: protobuf>=3.8.0 in c:\\users\\admin\\anaconda3\\envs\\face_recognition\\lib\\site-packages (from tensorflow) (3.17.2)\n",
      "Requirement already satisfied: h5py in c:\\users\\admin\\anaconda3\\envs\\face_recognition\\lib\\site-packages (from keras-applications>=1.0.8->tensorflow) (2.10.0)\n",
      "Requirement already satisfied: markdown>=2.6.8 in c:\\users\\admin\\anaconda3\\envs\\face_recognition\\lib\\site-packages (from tensorboard<2.2.0,>=2.1.0->tensorflow) (3.3.4)\n",
      "Requirement already satisfied: google-auth-oauthlib<0.5,>=0.4.1 in c:\\users\\admin\\anaconda3\\envs\\face_recognition\\lib\\site-packages (from tensorboard<2.2.0,>=2.1.0->tensorflow) (0.4.1)\n",
      "Requirement already satisfied: google-auth<2,>=1.6.3 in c:\\users\\admin\\anaconda3\\envs\\face_recognition\\lib\\site-packages (from tensorboard<2.2.0,>=2.1.0->tensorflow) (1.35.0)\n",
      "Requirement already satisfied: requests<3,>=2.21.0 in c:\\users\\admin\\anaconda3\\envs\\face_recognition\\lib\\site-packages (from tensorboard<2.2.0,>=2.1.0->tensorflow) (2.27.1)\n",
      "Requirement already satisfied: setuptools>=41.0.0 in c:\\users\\admin\\anaconda3\\envs\\face_recognition\\lib\\site-packages (from tensorboard<2.2.0,>=2.1.0->tensorflow) (58.0.4)\n",
      "Requirement already satisfied: werkzeug>=0.11.15 in c:\\users\\admin\\anaconda3\\envs\\face_recognition\\lib\\site-packages (from tensorboard<2.2.0,>=2.1.0->tensorflow) (0.16.1)\n",
      "Requirement already satisfied: pyasn1-modules>=0.2.1 in c:\\users\\admin\\anaconda3\\envs\\face_recognition\\lib\\site-packages (from google-auth<2,>=1.6.3->tensorboard<2.2.0,>=2.1.0->tensorflow) (0.2.8)\n",
      "Requirement already satisfied: cachetools<5.0,>=2.0.0 in c:\\users\\admin\\anaconda3\\envs\\face_recognition\\lib\\site-packages (from google-auth<2,>=1.6.3->tensorboard<2.2.0,>=2.1.0->tensorflow) (4.2.2)\n",
      "Requirement already satisfied: rsa<5,>=3.1.4 in c:\\users\\admin\\anaconda3\\envs\\face_recognition\\lib\\site-packages (from google-auth<2,>=1.6.3->tensorboard<2.2.0,>=2.1.0->tensorflow) (4.7.2)\n",
      "Requirement already satisfied: requests-oauthlib>=0.7.0 in c:\\users\\admin\\anaconda3\\envs\\face_recognition\\lib\\site-packages (from google-auth-oauthlib<0.5,>=0.4.1->tensorboard<2.2.0,>=2.1.0->tensorflow) (1.3.0)\n",
      "Requirement already satisfied: importlib-metadata in c:\\users\\admin\\anaconda3\\envs\\face_recognition\\lib\\site-packages (from markdown>=2.6.8->tensorboard<2.2.0,>=2.1.0->tensorflow) (4.8.1)\n",
      "Requirement already satisfied: pyasn1<0.5.0,>=0.4.6 in c:\\users\\admin\\anaconda3\\envs\\face_recognition\\lib\\site-packages (from pyasn1-modules>=0.2.1->google-auth<2,>=1.6.3->tensorboard<2.2.0,>=2.1.0->tensorflow) (0.4.8)\n",
      "Requirement already satisfied: certifi>=2017.4.17 in c:\\users\\admin\\anaconda3\\envs\\face_recognition\\lib\\site-packages (from requests<3,>=2.21.0->tensorboard<2.2.0,>=2.1.0->tensorflow) (2021.5.30)\n",
      "Requirement already satisfied: charset-normalizer~=2.0.0 in c:\\users\\admin\\anaconda3\\envs\\face_recognition\\lib\\site-packages (from requests<3,>=2.21.0->tensorboard<2.2.0,>=2.1.0->tensorflow) (2.0.4)\n",
      "Requirement already satisfied: urllib3<1.27,>=1.21.1 in c:\\users\\admin\\anaconda3\\envs\\face_recognition\\lib\\site-packages (from requests<3,>=2.21.0->tensorboard<2.2.0,>=2.1.0->tensorflow) (1.26.8)\n",
      "Requirement already satisfied: idna<4,>=2.5 in c:\\users\\admin\\anaconda3\\envs\\face_recognition\\lib\\site-packages (from requests<3,>=2.21.0->tensorboard<2.2.0,>=2.1.0->tensorflow) (3.3)\n",
      "Requirement already satisfied: oauthlib>=3.0.0 in c:\\users\\admin\\anaconda3\\envs\\face_recognition\\lib\\site-packages (from requests-oauthlib>=0.7.0->google-auth-oauthlib<0.5,>=0.4.1->tensorboard<2.2.0,>=2.1.0->tensorflow) (3.1.0)\n",
      "Requirement already satisfied: zipp>=0.5 in c:\\users\\admin\\anaconda3\\envs\\face_recognition\\lib\\site-packages (from importlib-metadata->markdown>=2.6.8->tensorboard<2.2.0,>=2.1.0->tensorflow) (3.6.0)\n",
      "Requirement already satisfied: typing-extensions>=3.6.4 in c:\\users\\admin\\anaconda3\\envs\\face_recognition\\lib\\site-packages (from importlib-metadata->markdown>=2.6.8->tensorboard<2.2.0,>=2.1.0->tensorflow) (4.1.1)\n",
      "Note: you may need to restart the kernel to use updated packages.\n"
     ]
    }
   ],
   "source": [
    "pip install tensorflow"
   ]
  },
  {
   "cell_type": "code",
   "execution_count": 2,
   "metadata": {},
   "outputs": [
    {
     "name": "stderr",
     "output_type": "stream",
     "text": [
      "Using TensorFlow backend.\n"
     ]
    }
   ],
   "source": [
    "import os\n",
    "import numpy as np\n",
    "import cv2\n",
    "from keras.models import load_model\n",
    "from keras.preprocessing.image import img_to_array\n",
    "from sklearn.preprocessing import Normalizer\n",
    "from tkinter import filedialog\n",
    "from tkinter import Tk\n",
    "\n"
   ]
  },
  {
   "cell_type": "code",
   "execution_count": 3,
   "metadata": {},
   "outputs": [
    {
     "name": "stdout",
     "output_type": "stream",
     "text": [
      "Requirement already satisfied: mtcnn in c:\\users\\admin\\anaconda3\\envs\\face_recognition\\lib\\site-packages (0.1.1)\n",
      "Requirement already satisfied: keras>=2.0.0 in c:\\users\\admin\\anaconda3\\envs\\face_recognition\\lib\\site-packages (from mtcnn) (2.3.1)\n",
      "Requirement already satisfied: opencv-python>=4.1.0 in c:\\users\\admin\\anaconda3\\envs\\face_recognition\\lib\\site-packages (from mtcnn) (4.6.0.66)\n",
      "Requirement already satisfied: numpy>=1.9.1 in c:\\users\\admin\\anaconda3\\envs\\face_recognition\\lib\\site-packages (from keras>=2.0.0->mtcnn) (1.19.2)\n",
      "Requirement already satisfied: scipy>=0.14 in c:\\users\\admin\\anaconda3\\envs\\face_recognition\\lib\\site-packages (from keras>=2.0.0->mtcnn) (1.4.1)\n",
      "Requirement already satisfied: six>=1.9.0 in c:\\users\\admin\\anaconda3\\envs\\face_recognition\\lib\\site-packages (from keras>=2.0.0->mtcnn) (1.16.0)\n",
      "Requirement already satisfied: pyyaml in c:\\users\\admin\\anaconda3\\envs\\face_recognition\\lib\\site-packages (from keras>=2.0.0->mtcnn) (5.4.1)\n",
      "Requirement already satisfied: h5py in c:\\users\\admin\\anaconda3\\envs\\face_recognition\\lib\\site-packages (from keras>=2.0.0->mtcnn) (2.10.0)\n",
      "Requirement already satisfied: keras_applications>=1.0.6 in c:\\users\\admin\\anaconda3\\envs\\face_recognition\\lib\\site-packages (from keras>=2.0.0->mtcnn) (1.0.8)\n",
      "Requirement already satisfied: keras_preprocessing>=1.0.5 in c:\\users\\admin\\anaconda3\\envs\\face_recognition\\lib\\site-packages (from keras>=2.0.0->mtcnn) (1.1.2)\n",
      "Note: you may need to restart the kernel to use updated packages.\n"
     ]
    }
   ],
   "source": [
    "pip install mtcnn"
   ]
  },
  {
   "cell_type": "code",
   "execution_count": 4,
   "metadata": {},
   "outputs": [
    {
     "name": "stdout",
     "output_type": "stream",
     "text": [
      "Requirement already satisfied: matplotlib in c:\\users\\admin\\anaconda3\\envs\\face_recognition\\lib\\site-packages (3.3.4)\n",
      "Requirement already satisfied: python-dateutil>=2.1 in c:\\users\\admin\\anaconda3\\envs\\face_recognition\\lib\\site-packages (from matplotlib) (2.8.2)\n",
      "Requirement already satisfied: pyparsing!=2.0.4,!=2.1.2,!=2.1.6,>=2.0.3 in c:\\users\\admin\\anaconda3\\envs\\face_recognition\\lib\\site-packages (from matplotlib) (3.0.4)\n",
      "Requirement already satisfied: numpy>=1.15 in c:\\users\\admin\\anaconda3\\envs\\face_recognition\\lib\\site-packages (from matplotlib) (1.19.2)\n",
      "Requirement already satisfied: kiwisolver>=1.0.1 in c:\\users\\admin\\anaconda3\\envs\\face_recognition\\lib\\site-packages (from matplotlib) (1.3.1)\n",
      "Requirement already satisfied: cycler>=0.10 in c:\\users\\admin\\anaconda3\\envs\\face_recognition\\lib\\site-packages (from matplotlib) (0.11.0)\n",
      "Requirement already satisfied: pillow>=6.2.0 in c:\\users\\admin\\anaconda3\\envs\\face_recognition\\lib\\site-packages (from matplotlib) (8.4.0)\n",
      "Requirement already satisfied: six>=1.5 in c:\\users\\admin\\anaconda3\\envs\\face_recognition\\lib\\site-packages (from python-dateutil>=2.1->matplotlib) (1.16.0)\n",
      "Note: you may need to restart the kernel to use updated packages.\n"
     ]
    }
   ],
   "source": [
    "pip install matplotlib"
   ]
  },
  {
   "cell_type": "code",
   "execution_count": 8,
   "metadata": {},
   "outputs": [
    {
     "name": "stdout",
     "output_type": "stream",
     "text": [
      "Requirement already satisfied: numpy in c:\\users\\admin\\anaconda3\\envs\\face_recognition\\lib\\site-packages (1.19.2)\n",
      "Note: you may need to restart the kernel to use updated packages.\n"
     ]
    }
   ],
   "source": [
    "pip install numpy"
   ]
  },
  {
   "cell_type": "code",
   "execution_count": 9,
   "metadata": {},
   "outputs": [],
   "source": [
    "from os import listdir\n",
    "from PIL import Image\n",
    "from numpy import asarray\n",
    "from matplotlib import pyplot as plt\n",
    "from mtcnn.mtcnn import MTCNN\n",
    "\n",
    "\n",
    "\n",
    "\n"
   ]
  },
  {
   "cell_type": "code",
   "execution_count": 10,
   "metadata": {},
   "outputs": [
    {
     "ename": "KeyboardInterrupt",
     "evalue": "",
     "output_type": "error",
     "traceback": [
      "\u001b[1;31m---------------------------------------------------------------------------\u001b[0m",
      "\u001b[1;31mKeyboardInterrupt\u001b[0m                         Traceback (most recent call last)",
      "\u001b[1;32m<ipython-input-10-03204c0e96f8>\u001b[0m in \u001b[0;36m<module>\u001b[1;34m\u001b[0m\n\u001b[0;32m     10\u001b[0m \u001b[0mtitles\u001b[0m \u001b[1;33m=\u001b[0m \u001b[1;33m[\u001b[0m\u001b[1;34m'BGR_img'\u001b[0m\u001b[1;33m,\u001b[0m\u001b[1;34m'CMY_img'\u001b[0m\u001b[1;33m,\u001b[0m\u001b[1;34m'Cyan'\u001b[0m\u001b[1;33m,\u001b[0m\u001b[1;34m'Magenta'\u001b[0m\u001b[1;33m,\u001b[0m\u001b[1;34m'Yellow'\u001b[0m\u001b[1;33m]\u001b[0m\u001b[1;33m\u001b[0m\u001b[1;33m\u001b[0m\u001b[0m\n\u001b[0;32m     11\u001b[0m \u001b[1;33m[\u001b[0m\u001b[0mcv2\u001b[0m\u001b[1;33m.\u001b[0m\u001b[0mimshow\u001b[0m\u001b[1;33m(\u001b[0m\u001b[0mt\u001b[0m\u001b[1;33m,\u001b[0m \u001b[0meval\u001b[0m\u001b[1;33m(\u001b[0m\u001b[0mt\u001b[0m\u001b[1;33m)\u001b[0m\u001b[1;33m)\u001b[0m \u001b[1;32mfor\u001b[0m \u001b[0mt\u001b[0m \u001b[1;32min\u001b[0m \u001b[0mtitles\u001b[0m\u001b[1;33m]\u001b[0m\u001b[1;33m\u001b[0m\u001b[1;33m\u001b[0m\u001b[0m\n\u001b[1;32m---> 12\u001b[1;33m \u001b[0mcv2\u001b[0m\u001b[1;33m.\u001b[0m\u001b[0mwaitKey\u001b[0m\u001b[1;33m(\u001b[0m\u001b[1;36m0\u001b[0m\u001b[1;33m)\u001b[0m\u001b[1;33m\u001b[0m\u001b[1;33m\u001b[0m\u001b[0m\n\u001b[0m",
      "\u001b[1;31mKeyboardInterrupt\u001b[0m: "
     ]
    }
   ],
   "source": [
    "import numpy as np, cv2\n",
    "\n",
    "BGR_img = cv2.imread(r\"C:\\Users\\admin\\Desktop\\face_recognition_project\\image\\K.jpg\", cv2.IMREAD_COLOR) # 컬러 영상 읽기\n",
    "if BGR_img is None: raise Exception(\"영상 파일 읽기 오류\")\n",
    "    \n",
    "white = np.array([255, 255, 255], np.uint8)\n",
    "CMY_img = white - BGR_img\n",
    "Cyan, Magenta, Yellow = cv2.split(CMY_img) # 채널 분리\n",
    "\n",
    "titles = ['BGR_img','CMY_img','Cyan','Magenta','Yellow']\n",
    "[cv2.imshow(t, eval(t)) for t in titles]\n",
    "cv2.waitKey(0)"
   ]
  },
  {
   "cell_type": "code",
   "execution_count": 29,
   "metadata": {},
   "outputs": [
    {
     "ename": "KeyboardInterrupt",
     "evalue": "",
     "output_type": "error",
     "traceback": [
      "\u001b[1;31m---------------------------------------------------------------------------\u001b[0m",
      "\u001b[1;31mKeyboardInterrupt\u001b[0m                         Traceback (most recent call last)",
      "\u001b[1;32m<ipython-input-29-e1ac4a7ff6f2>\u001b[0m in \u001b[0;36m<module>\u001b[1;34m\u001b[0m\n\u001b[0;32m     21\u001b[0m \u001b[0mcv2\u001b[0m\u001b[1;33m.\u001b[0m\u001b[0mimshow\u001b[0m\u001b[1;33m(\u001b[0m\u001b[1;34m\"filter2D 8-direction\"\u001b[0m\u001b[1;33m,\u001b[0m \u001b[0mcv2\u001b[0m\u001b[1;33m.\u001b[0m\u001b[0mconvertScaleAbs\u001b[0m\u001b[1;33m(\u001b[0m\u001b[0mdst2\u001b[0m\u001b[1;33m)\u001b[0m\u001b[1;33m)\u001b[0m\u001b[1;33m\u001b[0m\u001b[1;33m\u001b[0m\u001b[0m\n\u001b[0;32m     22\u001b[0m \u001b[0mcv2\u001b[0m\u001b[1;33m.\u001b[0m\u001b[0mimshow\u001b[0m\u001b[1;33m(\u001b[0m\u001b[1;34m\"Laplacian_OpenCV\"\u001b[0m\u001b[1;33m,\u001b[0m \u001b[0mcv2\u001b[0m\u001b[1;33m.\u001b[0m\u001b[0mconvertScaleAbs\u001b[0m\u001b[1;33m(\u001b[0m\u001b[0mdst3\u001b[0m\u001b[1;33m)\u001b[0m\u001b[1;33m)\u001b[0m\u001b[1;33m\u001b[0m\u001b[1;33m\u001b[0m\u001b[0m\n\u001b[1;32m---> 23\u001b[1;33m \u001b[0mcv2\u001b[0m\u001b[1;33m.\u001b[0m\u001b[0mwaitKey\u001b[0m\u001b[1;33m(\u001b[0m\u001b[1;36m0\u001b[0m\u001b[1;33m)\u001b[0m\u001b[1;33m\u001b[0m\u001b[1;33m\u001b[0m\u001b[0m\n\u001b[0m",
      "\u001b[1;31mKeyboardInterrupt\u001b[0m: "
     ]
    }
   ],
   "source": [
    "import numpy as np, cv2\n",
    "\n",
    "image = cv2.imread(r\"C:\\Users\\admin\\Desktop\\face_recognition_project\\image\\K.jpg\", cv2.IMREAD_COLOR)\n",
    "if image is None: raise Exception(\"영상파일 읽기 오류\")\n",
    "\n",
    "data1 = [\t[0,\t\t1,\t\t0],  \t\t\t\t\t\t\t\t\t\t\t\t# 4 방향 필터\n",
    "\t\t\t[1, \t-4,\t\t1],\n",
    "\t\t\t[0, \t1,\t\t0]]\n",
    "data2 = [\t[-1,\t-1,\t\t-1],\t\t\t\t\t\t\t\t\t\t\t\t\t# 8 방향 필터\n",
    "\t\t\t[-1, \t8, \t    -1],\n",
    "\t\t\t[-1, \t-1, \t-1]]\n",
    "mask4 = np.array(data1, np.int16)   # 음수가 있으므로 자료형이 int8인 행렬 선언\n",
    "mask8 = np.array(data2, np.int16)\n",
    "# OpenCV 함수 cv2.filter2D() 통한 라플라시안 수행\n",
    "dst1 = cv2.filter2D(image, cv2.CV_16S, mask4)\n",
    "dst2 = cv2.filter2D(image, cv2.CV_16S, mask8)\n",
    "dst3 = cv2.Laplacian(image, cv2.CV_16S, 1)      # OpenCV 라플라시안 수행 함수\n",
    "\n",
    "cv2.imshow(\"image\", image)\n",
    "cv2.imshow(\"filter2D 4-direction\", cv2.convertScaleAbs(dst1))\n",
    "cv2.imshow(\"filter2D 8-direction\", cv2.convertScaleAbs(dst2))\n",
    "cv2.imshow(\"Laplacian_OpenCV\", cv2.convertScaleAbs(dst3))\n",
    "cv2.waitKey(0)"
   ]
  },
  {
   "cell_type": "code",
   "execution_count": 31,
   "metadata": {},
   "outputs": [
    {
     "data": {
      "text/plain": [
       "-1"
      ]
     },
     "execution_count": 31,
     "metadata": {},
     "output_type": "execute_result"
    }
   ],
   "source": [
    "import numpy as np, cv2\n",
    "def getGaussianMask(ksize, sigmaX, sigmaY):\n",
    "    sigma = 0.3 * ((np.array(ksize) - 1.0) * 0.5 - 1.0) + 0.8  # 표준 편차\n",
    "    if sigmaX <= 0: sigmaX = sigma[0]\n",
    "    if sigmaY <= 0: sigmaY = sigma[1]\n",
    "\n",
    "    u = np.array(ksize)//2\n",
    "    x = np.arange(-u[0], u[0]+1, 1)\n",
    "    y = np.arange(-u[1], u[1]+1, 1)\n",
    "    x, y = np.meshgrid(x, y)\n",
    "\n",
    "    ratio = 1 / (sigmaX*sigmaY * 2 * np.pi)\n",
    "    v1 = x ** 2 / (2 * sigmaX ** 2)\n",
    "    v2 = y ** 2 / (2 * sigmaY ** 2 )\n",
    "    mask = ratio * np.exp(-(v1+v2))\n",
    "    return mask / np.sum(mask)\n",
    "\n",
    "image = cv2.imread(r\"C:\\Users\\admin\\Desktop\\face_recognition_project\\image\\K.jpg\", cv2.IMREAD_COLOR)\n",
    "if image is None: raise Exception(\"영상파일 읽기 오류\")\n",
    "\n",
    "ksize = (5, 17)                                        # 크기는 가로x세로로 표현\n",
    "gaussian_2d = getGaussianMask(ksize, 0, 0)\n",
    "gaussian_1dX = cv2.getGaussianKernel(ksize[0], 0, cv2.CV_32F)   # 가로 방향 마스크\n",
    "gaussian_1dY = cv2.getGaussianKernel(ksize[1], 0, cv2.CV_32F)   # 세로 방향 마스크\n",
    "gauss_img1 = cv2.filter2D(image, -1, gaussian_2d)     # 사용자 생성 마스크 적용\n",
    "gauss_img2 = cv2.GaussianBlur(image, (0,0), 10.7, 1.3)\n",
    "gauss_img3 = cv2.sepFilter2D(image, -1, gaussian_1dX, gaussian_1dY)\n",
    "titles = ['image','gauss_img1','gauss_img2','gauss_img3']\n",
    "[cv2.imshow(t, eval(t)) for t in titles]\n",
    "cv2.waitKey(0)"
   ]
  },
  {
   "cell_type": "code",
   "execution_count": 32,
   "metadata": {},
   "outputs": [
    {
     "data": {
      "text/plain": [
       "-1"
      ]
     },
     "execution_count": 32,
     "metadata": {},
     "output_type": "execute_result"
    }
   ],
   "source": [
    "import cv2\n",
    "\n",
    "def onTrackbar(th):\t\t\t\t\t\t\t\t\t\t\t\t\t\t\t\t\t# 트랙바 콜백 함수\n",
    "\tedge = cv2.GaussianBlur(gray, (5, 5), 0)         \t# 가우시안 블러링\n",
    "\tedge = cv2.Canny(edge, th, th*2, 5)\t\t\t\t\t\t# 캐니 에지 검출\n",
    "\n",
    "\tcolor_edge = cv2.copyTo(image, mask=edge)\n",
    "\tdst = cv2.hconcat([image, color_edge])\n",
    "\tcv2.imshow(\"color edge\", dst)\n",
    "\n",
    "image = cv2.imread(r\"C:\\Users\\admin\\Desktop\\face_recognition_project\\image\\K.jpg\", cv2.IMREAD_COLOR)\n",
    "if image is None: raise Exception(\"영상파일 읽기 오류\")\n",
    "\n",
    "th = 50\n",
    "gray = cv2.cvtColor(image, cv2.COLOR_BGR2GRAY)    \t# 명암도 영상 변환\n",
    "dst = cv2.hconcat([image, image])\n",
    "cv2.imshow(\"color edge\", dst)\n",
    "cv2.createTrackbar(\"Canny th\", \"color edge\", th, 150, onTrackbar)\t# 콜백 함수 등록\n",
    "onTrackbar(th)\t\t\t\t\t\t\t\t\t\t\t\t\t\t\t\t\t\t\t\t\t# 콜백 함수 첫 실행\n",
    "cv2.waitKey(0)"
   ]
  }
 ],
 "metadata": {
  "kernelspec": {
   "display_name": "Python 3 (ipykernel)",
   "language": "python",
   "name": "python3"
  },
  "language_info": {
   "codemirror_mode": {
    "name": "ipython",
    "version": 3
   },
   "file_extension": ".py",
   "mimetype": "text/x-python",
   "name": "python",
   "nbconvert_exporter": "python",
   "pygments_lexer": "ipython3",
   "version": "3.6.13"
  }
 },
 "nbformat": 4,
 "nbformat_minor": 4
}
